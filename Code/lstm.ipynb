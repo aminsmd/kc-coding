{
 "cells": [
  {
   "cell_type": "code",
   "execution_count": 1,
   "metadata": {},
   "outputs": [
    {
     "ename": "KeyboardInterrupt",
     "evalue": "",
     "output_type": "error",
     "traceback": [
      "\u001b[0;31m---------------------------------------------------------------------------\u001b[0m",
      "\u001b[0;31mKeyboardInterrupt\u001b[0m                         Traceback (most recent call last)",
      "Cell \u001b[0;32mIn[1], line 12\u001b[0m\n\u001b[1;32m      9\u001b[0m fasttext_path \u001b[38;5;241m=\u001b[39m \u001b[38;5;124m'\u001b[39m\u001b[38;5;124m/Users/amin/Downloads/crawl-300d-2M-subword 2/crawl-300d-2M-subword.bin\u001b[39m\u001b[38;5;124m'\u001b[39m\n\u001b[1;32m     11\u001b[0m \u001b[38;5;66;03m# Run LSTM experiment with FastText embeddings\u001b[39;00m\n\u001b[0;32m---> 12\u001b[0m run_dir_1 \u001b[38;5;241m=\u001b[39m \u001b[43mrun_dl_experiment\u001b[49m\u001b[43m(\u001b[49m\n\u001b[1;32m     13\u001b[0m \u001b[43m    \u001b[49m\u001b[43mdata\u001b[49m\u001b[43m,\u001b[49m\u001b[43m \u001b[49m\n\u001b[1;32m     14\u001b[0m \u001b[43m    \u001b[49m\u001b[43mmodel_type\u001b[49m\u001b[38;5;241;43m=\u001b[39;49m\u001b[38;5;124;43m'\u001b[39;49m\u001b[38;5;124;43mlstm\u001b[39;49m\u001b[38;5;124;43m'\u001b[39;49m\u001b[43m,\u001b[49m\n\u001b[1;32m     15\u001b[0m \u001b[43m    \u001b[49m\u001b[43muse_weights\u001b[49m\u001b[38;5;241;43m=\u001b[39;49m\u001b[38;5;28;43;01mTrue\u001b[39;49;00m\u001b[43m,\u001b[49m\n\u001b[1;32m     16\u001b[0m \u001b[43m    \u001b[49m\u001b[43membedding_path\u001b[49m\u001b[38;5;241;43m=\u001b[39;49m\u001b[43mfasttext_path\u001b[49m\u001b[43m,\u001b[49m\n\u001b[1;32m     17\u001b[0m \u001b[43m    \u001b[49m\u001b[43membedding_type\u001b[49m\u001b[38;5;241;43m=\u001b[39;49m\u001b[38;5;124;43m'\u001b[39;49m\u001b[38;5;124;43mfasttext\u001b[39;49m\u001b[38;5;124;43m'\u001b[39;49m\n\u001b[1;32m     18\u001b[0m \u001b[43m)\u001b[49m\n\u001b[1;32m     19\u001b[0m \u001b[38;5;28mprint\u001b[39m(\u001b[38;5;124mf\u001b[39m\u001b[38;5;124m\"\u001b[39m\u001b[38;5;124mLSTM experiment with FastText embeddings saved in: \u001b[39m\u001b[38;5;132;01m{\u001b[39;00mrun_dir_1\u001b[38;5;132;01m}\u001b[39;00m\u001b[38;5;124m\"\u001b[39m)\n\u001b[1;32m     21\u001b[0m \u001b[38;5;66;03m# Run CNN experiment without class weights\u001b[39;00m\n",
      "File \u001b[0;32m~/Library/CloudStorage/GoogleDrive-masamadi@uci.edu/Shared drives/La(LA)LAB/Research Projects/kc-coding/Code/dl_experiments.py:261\u001b[0m, in \u001b[0;36mrun_dl_experiment\u001b[0;34m(data, model_type, merge_codes, use_weights, embedding_path, embedding_type)\u001b[0m\n\u001b[1;32m    259\u001b[0m embedding_matrix \u001b[38;5;241m=\u001b[39m \u001b[38;5;28;01mNone\u001b[39;00m\n\u001b[1;32m    260\u001b[0m \u001b[38;5;28;01mif\u001b[39;00m embedding_path:\n\u001b[0;32m--> 261\u001b[0m     embedding_model \u001b[38;5;241m=\u001b[39m \u001b[43mload_embedding_model\u001b[49m\u001b[43m(\u001b[49m\u001b[43membedding_path\u001b[49m\u001b[43m,\u001b[49m\u001b[43m \u001b[49m\u001b[43membedding_type\u001b[49m\u001b[43m)\u001b[49m\n\u001b[1;32m    262\u001b[0m     embedding_matrix \u001b[38;5;241m=\u001b[39m create_embedding_matrix(\n\u001b[1;32m    263\u001b[0m         tokenizer\u001b[38;5;241m.\u001b[39mword_index, \n\u001b[1;32m    264\u001b[0m         embedding_model,\n\u001b[1;32m    265\u001b[0m         embedding_type,\n\u001b[1;32m    266\u001b[0m         embedding_dim\n\u001b[1;32m    267\u001b[0m     )\n\u001b[1;32m    269\u001b[0m     \u001b[38;5;66;03m# Update config to include embedding info\u001b[39;00m\n",
      "File \u001b[0;32m~/Library/CloudStorage/GoogleDrive-masamadi@uci.edu/Shared drives/La(LA)LAB/Research Projects/kc-coding/Code/dl_experiments.py:104\u001b[0m, in \u001b[0;36mload_embedding_model\u001b[0;34m(embedding_path, embedding_type)\u001b[0m\n\u001b[1;32m     93\u001b[0m \u001b[38;5;250m\u001b[39m\u001b[38;5;124;03m\"\"\"\u001b[39;00m\n\u001b[1;32m     94\u001b[0m \u001b[38;5;124;03mLoad pre-trained word embedding model.\u001b[39;00m\n\u001b[1;32m     95\u001b[0m \u001b[38;5;124;03m\u001b[39;00m\n\u001b[0;32m   (...)\u001b[0m\n\u001b[1;32m    101\u001b[0m \u001b[38;5;124;03m    Model object that supports word vector lookups\u001b[39;00m\n\u001b[1;32m    102\u001b[0m \u001b[38;5;124;03m\"\"\"\u001b[39;00m\n\u001b[1;32m    103\u001b[0m \u001b[38;5;28;01mif\u001b[39;00m embedding_type\u001b[38;5;241m.\u001b[39mlower() \u001b[38;5;241m==\u001b[39m \u001b[38;5;124m'\u001b[39m\u001b[38;5;124mfasttext\u001b[39m\u001b[38;5;124m'\u001b[39m:\n\u001b[0;32m--> 104\u001b[0m     \u001b[38;5;28;01mreturn\u001b[39;00m \u001b[43mfasttext\u001b[49m\u001b[38;5;241;43m.\u001b[39;49m\u001b[43mload_model\u001b[49m\u001b[43m(\u001b[49m\u001b[43membedding_path\u001b[49m\u001b[43m)\u001b[49m\n\u001b[1;32m    105\u001b[0m \u001b[38;5;28;01melse\u001b[39;00m:  \u001b[38;5;66;03m# word2vec\u001b[39;00m\n\u001b[1;32m    106\u001b[0m     \u001b[38;5;28;01mreturn\u001b[39;00m KeyedVectors\u001b[38;5;241m.\u001b[39mload_word2vec_format(embedding_path, binary\u001b[38;5;241m=\u001b[39m\u001b[38;5;28;01mTrue\u001b[39;00m)\n",
      "File \u001b[0;32m~/Library/CloudStorage/GoogleDrive-masamadi@uci.edu/Shared drives/La(LA)LAB/Research Projects/kc-coding/.venv/lib/python3.12/site-packages/fasttext/FastText.py:445\u001b[0m, in \u001b[0;36mload_model\u001b[0;34m(path)\u001b[0m\n\u001b[1;32m    443\u001b[0m \u001b[38;5;28;01mdef\u001b[39;00m \u001b[38;5;21mload_model\u001b[39m(path):\n\u001b[1;32m    444\u001b[0m \u001b[38;5;250m    \u001b[39m\u001b[38;5;124;03m\"\"\"Load a model given a filepath and return a model object.\"\"\"\u001b[39;00m\n\u001b[0;32m--> 445\u001b[0m     \u001b[38;5;28;01mreturn\u001b[39;00m \u001b[43m_FastText\u001b[49m\u001b[43m(\u001b[49m\u001b[43mmodel_path\u001b[49m\u001b[38;5;241;43m=\u001b[39;49m\u001b[43mpath\u001b[49m\u001b[43m)\u001b[49m\n",
      "File \u001b[0;32m~/Library/CloudStorage/GoogleDrive-masamadi@uci.edu/Shared drives/La(LA)LAB/Research Projects/kc-coding/.venv/lib/python3.12/site-packages/fasttext/FastText.py:93\u001b[0m, in \u001b[0;36m_FastText.__init__\u001b[0;34m(self, model_path, args)\u001b[0m\n\u001b[1;32m     91\u001b[0m \u001b[38;5;28mself\u001b[39m\u001b[38;5;241m.\u001b[39mf \u001b[38;5;241m=\u001b[39m fasttext\u001b[38;5;241m.\u001b[39mfasttext()\n\u001b[1;32m     92\u001b[0m \u001b[38;5;28;01mif\u001b[39;00m model_path \u001b[38;5;129;01mis\u001b[39;00m \u001b[38;5;129;01mnot\u001b[39;00m \u001b[38;5;28;01mNone\u001b[39;00m:\n\u001b[0;32m---> 93\u001b[0m     \u001b[38;5;28;43mself\u001b[39;49m\u001b[38;5;241;43m.\u001b[39;49m\u001b[43mf\u001b[49m\u001b[38;5;241;43m.\u001b[39;49m\u001b[43mloadModel\u001b[49m\u001b[43m(\u001b[49m\u001b[43mmodel_path\u001b[49m\u001b[43m)\u001b[49m\n\u001b[1;32m     94\u001b[0m \u001b[38;5;28mself\u001b[39m\u001b[38;5;241m.\u001b[39m_words \u001b[38;5;241m=\u001b[39m \u001b[38;5;28;01mNone\u001b[39;00m\n\u001b[1;32m     95\u001b[0m \u001b[38;5;28mself\u001b[39m\u001b[38;5;241m.\u001b[39m_labels \u001b[38;5;241m=\u001b[39m \u001b[38;5;28;01mNone\u001b[39;00m\n",
      "\u001b[0;31mKeyboardInterrupt\u001b[0m: "
     ]
    }
   ],
   "source": [
    "import pandas as pd\n",
    "from dl_experiments import run_dl_experiment\n",
    "\n",
    "# Example usage\n",
    "data_path = '../Data/Cleaned_Mel_CPS_19_Dataset.csv'\n",
    "data = pd.read_csv(data_path)\n",
    "\n",
    "# Path to pre-trained embeddings\n",
    "fasttext_path = '/Users/amin/Downloads/crawl-300d-2M-subword 2/crawl-300d-2M-subword.bin'\n",
    "\n",
    "# Run LSTM experiment with FastText embeddings\n",
    "run_dir_1 = run_dl_experiment(\n",
    "    data, \n",
    "    model_type='lstm',\n",
    "    use_weights=True,\n",
    "    embedding_path=fasttext_path,\n",
    "    embedding_type='fasttext'\n",
    ")\n",
    "print(f\"LSTM experiment with FastText embeddings saved in: {run_dir_1}\")\n",
    "\n",
    "# Run CNN experiment without class weights\n",
    "run_dir_2 = run_dl_experiment(data, model_type='cnn', use_weights=False)\n",
    "print(f\"CNN experiment results saved in: {run_dir_2}\")\n",
    "\n",
    "# Run LSTM experiment with merged KCs\n",
    "run_dir_3 = run_dl_experiment(data, model_type='lstm', \n",
    "                            merge_codes=[[4,5]], use_weights=True)\n",
    "print(f\"LSTM experiment with merged KCs saved in: {run_dir_3}\")"
   ]
  },
  {
   "cell_type": "code",
   "execution_count": null,
   "metadata": {},
   "outputs": [],
   "source": []
  }
 ],
 "metadata": {
  "kernelspec": {
   "display_name": ".venv",
   "language": "python",
   "name": "python3"
  },
  "language_info": {
   "codemirror_mode": {
    "name": "ipython",
    "version": 3
   },
   "file_extension": ".py",
   "mimetype": "text/x-python",
   "name": "python",
   "nbconvert_exporter": "python",
   "pygments_lexer": "ipython3",
   "version": "3.12.2"
  }
 },
 "nbformat": 4,
 "nbformat_minor": 2
}
