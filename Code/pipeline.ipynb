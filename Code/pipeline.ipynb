{
 "cells": [
  {
   "cell_type": "code",
   "execution_count": null,
   "metadata": {},
   "outputs": [],
   "source": [
    "import os\n",
    "os.chdir('/content/drive/Shareddrives/La(LA)LAB/Research Projects/kc-coding/Code')"
   ]
  },
  {
   "cell_type": "code",
   "execution_count": null,
   "metadata": {},
   "outputs": [],
   "source": [
    "# Import necessary functions\n",
    "from run_pipeline import (\n",
    "    load_data,\n",
    "    run_full_pipeline,\n",
    "    collect_metrics,\n",
    "    generate_report,\n",
    "    save_report\n",
    ")\n",
    "\n",
    "# Set up OpenAI API key\n",
    "import os\n",
    "os.environ['OPENAI_API_KEY'] = OPENAI_API_KEY\n",
    "\n",
    "# Load the data\n",
    "data = load_data()\n",
    "\n",
    "# Run the full pipeline with custom embedding path and max_length\n",
    "results_dirs = run_full_pipeline(\n",
    "    data,\n",
    "    use_weights=True,\n",
    "    embedding_path='/content/drive/MyDrive/crawl-300d-2M-subword.bin',\n",
    "    max_length=50\n",
    ")\n",
    "\n",
    "# Collect and process metrics\n",
    "metrics = collect_metrics(results_dirs)\n",
    "\n",
    "# Generate and save report\n",
    "report = generate_report(metrics, os.environ['OPENAI_API_KEY'])\n",
    "base_dir = os.path.dirname(os.getcwd())\n",
    "report_path = save_report(report, base_dir)\n",
    "\n",
    "# Display the report\n",
    "from IPython.display import Markdown, display\n",
    "display(Markdown(report))"
   ]
  }
 ],
 "metadata": {
  "language_info": {
   "name": "python"
  }
 },
 "nbformat": 4,
 "nbformat_minor": 2
}
