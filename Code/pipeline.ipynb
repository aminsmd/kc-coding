{
 "cells": [
  {
   "cell_type": "code",
   "execution_count": null,
   "metadata": {},
   "outputs": [],
   "source": [
    "# Import necessary functions\n",
    "from run_pipeline import (\n",
    "    load_data,\n",
    "    run_full_pipeline,\n",
    "    collect_metrics,\n",
    "    generate_report,\n",
    "    save_report\n",
    ")\n",
    "\n",
    "# Set up OpenAI API key (if not set in environment)\n",
    "import os\n",
    "os.environ['OPENAI_API_KEY'] = 'your-api-key'  # Replace with your API key\n",
    "\n",
    "# Load the data\n",
    "print(\"Loading data...\")\n",
    "data = load_data()\n",
    "\n",
    "# Run the full pipeline\n",
    "print(\"\\nRunning full pipeline...\")\n",
    "results_dirs = run_full_pipeline(data, use_weights=True)\n",
    "\n",
    "# Collect all metrics\n",
    "print(\"\\nCollecting metrics...\")\n",
    "metrics = collect_metrics(results_dirs)\n",
    "\n",
    "# Generate the analysis report\n",
    "print(\"\\nGenerating analysis report...\")\n",
    "report = generate_report(metrics, os.environ['OPENAI_API_KEY'])\n",
    "\n",
    "# Save the report (optional)\n",
    "report_path = save_report(report, os.path.dirname(os.path.dirname(os.path.abspath(''))))\n",
    "print(f\"\\nReport saved to: {report_path}\")\n",
    "\n",
    "# Display the report in the notebook\n",
    "from IPython.display import Markdown, display\n",
    "display(Markdown(report))"
   ]
  }
 ],
 "metadata": {
  "language_info": {
   "name": "python"
  }
 },
 "nbformat": 4,
 "nbformat_minor": 2
}
