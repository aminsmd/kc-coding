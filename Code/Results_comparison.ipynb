{
 "cells": [
  {
   "cell_type": "code",
   "execution_count": null,
   "metadata": {},
   "outputs": [],
   "source": [
    "from utils import analyze_experiment_run, compare_experiments\n",
    "\n",
    "run_dir = \"../Results/neural_networks/lstm/weighted/run_20241210_020106\"\n",
    "summary = analyze_experiment_run(run_dir)\n",
    "\n",
    "# Compare multiple experiments\n",
    "run_dir1 = \"../Results/neural_networks/lstm/weighted/run_20241210_020106\"\n",
    "run_dir2 = \"../Results/neural_networks/cnn/unweighted/run_20241210_020205\"\n",
    "comparison = compare_experiments(run_dir1, run_dir2)\n",
    "print(\"\\nExperiment Comparison:\")\n",
    "print(comparison)"
   ]
  },
  {
   "cell_type": "code",
   "execution_count": null,
   "metadata": {},
   "outputs": [],
   "source": []
  }
 ],
 "metadata": {
  "kernelspec": {
   "display_name": ".venv",
   "language": "python",
   "name": "python3"
  },
  "language_info": {
   "name": "python",
   "version": "3.12.2"
  }
 },
 "nbformat": 4,
 "nbformat_minor": 2
}
